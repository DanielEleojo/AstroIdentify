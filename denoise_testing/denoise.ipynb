{
 "cells": [
  {
   "cell_type": "code",
   "execution_count": 2,
   "metadata": {},
   "outputs": [],
   "source": [
    "import numpy as np\n",
    "import cv2 as cv\n",
    "import scipy.signal\n",
    "import matplotlib.pyplot as plt"
   ]
  },
  {
   "cell_type": "code",
   "execution_count": null,
   "metadata": {},
   "outputs": [
    {
     "data": {
      "image/png": "[encoded data removed]",
      "text/plain": [
       "<Figure size 1200x600 with 2 Axes>"
      ]
     },
     "metadata": {},
     "output_type": "display_data"
    },
    {
     "data": {
      "text/plain": [
       "True"
      ]
     },
     "execution_count": 3,
     "metadata": {},
     "output_type": "execute_result"
    }
   ],
   "source": [
    "def apply_gaussian_denoise(image_path, sigma=2, kernel_size=7):\n",
    "    image = cv.imread(image_path, cv.IMREAD_GRAYSCALE)\n",
    "    \n",
    "    if image is None:\n",
    "        raise FileNotFoundError(\"Image not found. Check the path!\")\n",
    "\n",
    "    def gaussian_kernel(size, sigma):\n",
    "        k = size // 2\n",
    "        x, y = np.meshgrid(np.linspace(-k, k, size), np.linspace(-k, k, size))\n",
    "        kernel = np.exp(-(x**2 + y**2) / (2 * sigma**2))\n",
    "        return kernel / np.sum(kernel)\n",
    "\n",
    "    kernel = gaussian_kernel(kernel_size, sigma)\n",
    "\n",
    "    denoised_image = scipy.signal.convolve2d(image, kernel, mode='same', boundary='symm')\n",
    "\n",
    "    return image, denoised_image\n",
    "\n",
    "def plot_results(original, denoised):\n",
    "    \"\"\" Display original and denoised images side by side. \"\"\"\n",
    "    plt.figure(figsize=(12, 6))\n",
    "    plt.subplot(1, 2, 1)\n",
    "    plt.imshow(original, cmap='gray')\n",
    "    plt.title(\"Original Noisy Image\")\n",
    "    plt.axis('off')\n",
    "\n",
    "    plt.subplot(1, 2, 2)\n",
    "    plt.imshow(denoised, cmap='gray')\n",
    "    plt.title(\"Denoised Image\")\n",
    "    plt.axis('off')\n",
    "\n",
    "    plt.show()\n",
    "\n",
    "# Example usage\n",
    "image_path = \"ursa_minor_1.jpg\"  \n",
    "original, denoised = apply_gaussian_denoise(image_path)\n",
    "plot_results(original, denoised)\n",
    "cv.imwrite(\"denoised_ursa_minor_2.jpg\", denoised)\n",
    "\n"
   ]
  },
  {
   "cell_type": "code",
   "execution_count": null,
   "metadata": {},
   "outputs": [],
   "source": []
  }
 ],
 "metadata": {
  "kernelspec": {
   "display_name": "venv",
   "language": "python",
   "name": "python3"
  },
  "language_info": {
   "codemirror_mode": {
    "name": "ipython",
    "version": 3
   },
   "file_extension": ".py",
   "mimetype": "text/x-python",
   "name": "python",
   "nbconvert_exporter": "python",
   "pygments_lexer": "ipython3",
   "version": "3.11.5"
  }
 },
 "nbformat": 4,
 "nbformat_minor": 2
}
